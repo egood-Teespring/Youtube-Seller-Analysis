{
 "cells": [
  {
   "cell_type": "code",
   "execution_count": 1,
   "metadata": {
    "ExecuteTime": {
     "end_time": "2019-01-30T21:39:48.290488Z",
     "start_time": "2019-01-30T21:39:45.849101Z"
    }
   },
   "outputs": [],
   "source": [
    "import sys\n",
    "import pandas as pd\n",
    "import numpy as np\n",
    "import matplotlib.pyplot as plt\n",
    "import scipy.stats as stats\n",
    "from jupyterthemes import jtplot"
   ]
  },
  {
   "cell_type": "code",
   "execution_count": 2,
   "metadata": {
    "ExecuteTime": {
     "end_time": "2019-01-30T21:39:48.627092Z",
     "start_time": "2019-01-30T21:39:48.347590Z"
    }
   },
   "outputs": [],
   "source": [
    "sys.path.insert(0, \"C://Users/elliott.good/Desktop/Python Scripts\")\n",
    "import SQL_query as sql"
   ]
  },
  {
   "cell_type": "code",
   "execution_count": 3,
   "metadata": {
    "ExecuteTime": {
     "end_time": "2019-01-30T21:39:49.912402Z",
     "start_time": "2019-01-30T21:39:49.906391Z"
    }
   },
   "outputs": [],
   "source": [
    "jtplot.style(\"chesterish\")"
   ]
  },
  {
   "cell_type": "code",
   "execution_count": 4,
   "metadata": {
    "ExecuteTime": {
     "end_time": "2019-01-30T21:39:50.575593Z",
     "start_time": "2019-01-30T21:39:50.560566Z"
    }
   },
   "outputs": [],
   "source": [
    "youtube_qry = '''\n",
    "-- user signups\n",
    "WITH signups AS (\n",
    "\tSELECT s.user_id\n",
    "\t\t,u.country\n",
    "\t\t,DATE(u.signupdate) AS signupdate\n",
    "\t\t,CASE WHEN s.subs < 100000 THEN '<100k'\n",
    "\t\t\t  WHEN s.subs < 500000 THEN '100k - 500k'\n",
    "\t\t\t  WHEN s.subs < 1000000 THEN '500k - 1M'\n",
    "\t\t\t  WHEN s.subs < 5000000 THEN '1M - 5M'\n",
    "\t\t\t  WHEN s.subs > 5000000 THEN '>5M'\n",
    "\t\t\t  ELSE 'Not Listed' END AS subs\n",
    "\tFROM (\n",
    "\t\tSELECT gmc.user_id\n",
    "\t\t\t,MAX(yc.subscriber_count) AS subs\n",
    "\t\tFROM youtube_channels yc\n",
    "\t\tLEFT JOIN gmc_merchants gmc ON yc.gmc_merchant_id = gmc.id\n",
    "        WHERE yc.subscriber_count >= 10000\n",
    "\t\tGROUP BY 1\n",
    "\t\t) s\n",
    "\tLEFT JOIN users u ON s.user_id = u.id\n",
    "\tWHERE u.signupdate >= DATE('2018-1-1')\n",
    "\t),\n",
    "\n",
    "-- campaigns launched\n",
    "user_campaigns AS ( \n",
    "\tSELECT s.*\n",
    "\t\t,SUM(CASE WHEN cf.url IS NOT NULL THEN 1 ELSE 0 END) AS campaigns\n",
    "\tFROM signups s\n",
    "\tLEFT JOIN rollups.campaign_facts cf ON s.user_id = cf.user_id\n",
    "\tWHERE cf.campaign_state_id <> 0\n",
    "\tGROUP BY 1,2,3,4\n",
    "\t),\n",
    "\t\n",
    "-- units captured\n",
    "user_sales AS (\n",
    "\tSELECT s.*\n",
    "\t\t,SUM(CASE WHEN so.order_id IS NOT NULL THEN so.quantity ELSE 0 END) AS units\n",
    "\tFROM signups s\n",
    "\tLEFT JOIN rollups.super_orders so ON s.user_id = so.seller_id\n",
    "\tWHERE so.order_state_id = 3\n",
    "\tGROUP BY 1,2,3,4\n",
    "\t)\n",
    "\n",
    "\t\n",
    "-- campaigns launched\n",
    "SELECT s.user_id\n",
    "\t,s.country\n",
    "\t,s.signupdate\n",
    "\t,s.subs\n",
    "\t,COALESCE(c.campaigns, 0) AS campaigns\n",
    "\t,COALESCE(u.units, 0) AS units\n",
    "FROM signups s \n",
    "LEFT JOIN user_campaigns c ON s.user_id = c.user_id\n",
    "LEFT JOIN user_sales u ON s.user_id = u.user_id\n",
    "'''"
   ]
  },
  {
   "cell_type": "code",
   "execution_count": 10,
   "metadata": {
    "ExecuteTime": {
     "end_time": "2019-01-30T21:47:05.094574Z",
     "start_time": "2019-01-30T21:47:03.792364Z"
    }
   },
   "outputs": [
    {
     "name": "stdout",
     "output_type": "stream",
     "text": [
      "Connecting to Redshift...\n",
      "Connection successful. Querying...\n",
      "Data retrieved. Query executed in 0 seconds. Connection closed.\n"
     ]
    }
   ],
   "source": [
    "youtube_stats = sql.connect_to_Redshift(youtube_qry)"
   ]
  },
  {
   "cell_type": "code",
   "execution_count": 11,
   "metadata": {
    "ExecuteTime": {
     "end_time": "2019-01-30T21:47:05.129634Z",
     "start_time": "2019-01-30T21:47:05.100584Z"
    }
   },
   "outputs": [],
   "source": [
    "# get list of youtubers and convert id's to strings\n",
    "users = youtube_stats[\"user_id\"].unique()\n",
    "users_text_list = list(users) # create list\n",
    "users_text_list = [str(i) for i in users_text_list] # convert to strings\n",
    "users_text_list = sql.list_to_text(users_text_list) # get into format \"(x1, x2, ...)\""
   ]
  },
  {
   "cell_type": "markdown",
   "metadata": {},
   "source": [
    "# Are users turned off by the platform?"
   ]
  },
  {
   "cell_type": "markdown",
   "metadata": {},
   "source": [
    "Initial questions:\n",
    "- Is there a relationship between number of sessions and number of campaign launches by user\n",
    "    - in other words, are youtube users working to pump out different designs like most of our fulltime, top sellers\n",
    "- How many times are users visiting?\n",
    "    - are they simply signing up and not returning, signing up and seeing low sales and not returning, or consistently pumping out campaigns with low success?\n",
    "        - this should help identify if there's a problem getting users to come back to the site, helping users market, etc. \n",
    "- How long are users spending on the site?\n",
    "    - if users are spending a lot of time on the site but have low sales, this might shed some light on areas we could improve \n",
    "- What are users doing on the site?\n",
    "    - is most of the time spent in the composer, checking stats, viewing other campaigns, etc. "
   ]
  },
  {
   "cell_type": "markdown",
   "metadata": {},
   "source": [
    "## Number of sessions, average session duration, and campaigns launched"
   ]
  },
  {
   "cell_type": "code",
   "execution_count": 12,
   "metadata": {
    "ExecuteTime": {
     "end_time": "2019-01-30T21:47:05.138649Z",
     "start_time": "2019-01-30T21:47:05.131637Z"
    }
   },
   "outputs": [],
   "source": [
    "# get user activity\n",
    "session_qry = '''\n",
    "SELECT ae.user_id \n",
    "\t,ae.event_id\n",
    "\t,ae.session_id\n",
    "\t,ae.amplitude_id\n",
    "\t,ae.event_time\n",
    "\t,ae.event_type\n",
    "FROM amplitude_events ae\n",
    "WHERE ae.user_id IN ''' + users_text_list + '''\n",
    "ORDER BY user_id, event_time\n",
    "'''"
   ]
  },
  {
   "cell_type": "code",
   "execution_count": 13,
   "metadata": {
    "ExecuteTime": {
     "end_time": "2019-01-30T21:53:51.696624Z",
     "start_time": "2019-01-30T21:47:05.143657Z"
    }
   },
   "outputs": [
    {
     "name": "stdout",
     "output_type": "stream",
     "text": [
      "Connecting to Redshift...\n",
      "Connection successful. Querying...\n",
      "Data retrieved. Query executed in 395 seconds. Connection closed.\n"
     ]
    }
   ],
   "source": [
    "session_df = sql.connect_to_Redshift(session_qry)"
   ]
  },
  {
   "cell_type": "code",
   "execution_count": 14,
   "metadata": {
    "ExecuteTime": {
     "end_time": "2019-01-30T21:53:52.077270Z",
     "start_time": "2019-01-30T21:53:51.698628Z"
    },
    "scrolled": true
   },
   "outputs": [],
   "source": [
    "website_views = session_df.copy() # save data "
   ]
  },
  {
   "cell_type": "code",
   "execution_count": 15,
   "metadata": {
    "ExecuteTime": {
     "end_time": "2019-01-30T21:53:54.726767Z",
     "start_time": "2019-01-30T21:53:52.080276Z"
    }
   },
   "outputs": [],
   "source": [
    "### get time between events to estimate sessions ###\n",
    "# first get previous event\n",
    "website_views[\"previous_time\"] = website_views[\"event_time\"].shift(1) # gets 1 row up\n",
    "# set each user's first activity to NaT\n",
    "website_views.loc[website_views.groupby(\"user_id\").head(1).index, \"previous_time\"] = pd.NaT "
   ]
  },
  {
   "cell_type": "code",
   "execution_count": 16,
   "metadata": {
    "ExecuteTime": {
     "end_time": "2019-01-30T21:56:05.282335Z",
     "start_time": "2019-01-30T21:53:54.728770Z"
    }
   },
   "outputs": [],
   "source": [
    "# calculate difference in hours\n",
    "website_views[\"hour_delta\"] = round((website_views[\"event_time\"] - \n",
    "                                     website_views[\"previous_time\"]).dt.days*24 + \n",
    "                                    (website_views[\"event_time\"] - \n",
    "                                     website_views[\"previous_time\"]).dt.seconds/(60*60),2)\n",
    "website_views.loc[website_views[\"hour_delta\"].isnull(), \"hour_delta\"] = 0 # convert NaN's to 0 (first event)"
   ]
  },
  {
   "cell_type": "code",
   "execution_count": 17,
   "metadata": {
    "ExecuteTime": {
     "end_time": "2019-01-30T21:56:09.883143Z",
     "start_time": "2019-01-30T21:56:05.285340Z"
    }
   },
   "outputs": [],
   "source": [
    "# assume a new session for inactivty of 30 minutes or more\n",
    "website_views[\"new_session\"] = website_views[\"hour_delta\"].apply(lambda x: 1 if x >= 0.5 else 0)\n",
    "# mark each line at item's session number\n",
    "website_views[\"session\"] = website_views.groupby(by=\"user_id\")[\"new_session\"].cumsum() + 1 # first session is 0"
   ]
  },
  {
   "cell_type": "code",
   "execution_count": 18,
   "metadata": {
    "ExecuteTime": {
     "end_time": "2019-01-30T21:56:16.331086Z",
     "start_time": "2019-01-30T21:56:09.885146Z"
    }
   },
   "outputs": [],
   "source": [
    "### aggregate user stats ###\n",
    "# get length of each session\n",
    "user_stats = website_views.groupby(by=[\"user_id\",\"session\"], \n",
    "                                   as_index=False)[[\"event_time\"]].agg(['min','max'])\n",
    "user_stats.columns = user_stats.columns.droplevel(0) # drop grouped columns\n",
    "user_stats = user_stats.reset_index() # drop grouped index\n",
    "user_stats[\"session_hours\"] = round((user_stats[\"max\"] -\n",
    "                                     user_stats[\"min\"]).dt.days*24 +\n",
    "                                    (user_stats[\"max\"] -\n",
    "                                     user_stats[\"min\"]).dt.seconds/(60*60),2)"
   ]
  },
  {
   "cell_type": "code",
   "execution_count": 19,
   "metadata": {
    "ExecuteTime": {
     "end_time": "2019-01-30T21:56:16.405212Z",
     "start_time": "2019-01-30T21:56:16.334091Z"
    }
   },
   "outputs": [],
   "source": [
    "user_session_stats = user_stats.groupby(\"user_id\", as_index=False).agg({\"session\":\"max\", \n",
    "                                                                         \"session_hours\":\"mean\"})\n",
    "# convert avg. session hours to avg. session minutes\n",
    "user_session_stats[\"session_hours\"] = round(user_session_stats[\"session_hours\"]*60,2)\n",
    "user_session_stats = user_session_stats.rename(columns={\"session\":\"sessions\",\n",
    "                                                        \"session_hours\": \"avg session min\"})"
   ]
  },
  {
   "cell_type": "code",
   "execution_count": 20,
   "metadata": {
    "ExecuteTime": {
     "end_time": "2019-01-30T21:56:16.476332Z",
     "start_time": "2019-01-30T21:56:16.410220Z"
    }
   },
   "outputs": [],
   "source": [
    "### combine with youtube_stats ###\n",
    "# convert user_id to string in youtube view\n",
    "youtube_stats[\"user_id\"] = youtube_stats[\"user_id\"].astype(str)\n",
    "overall_stats = youtube_stats.merge(user_session_stats, how='left', on='user_id')\n",
    "# remove NA's - i.e., user id doesn't show up in amplitude\n",
    "overall_stats = overall_stats[overall_stats[\"sessions\"].notnull()]"
   ]
  },
  {
   "cell_type": "markdown",
   "metadata": {},
   "source": [
    "### Number of sessions vs campaigns launched"
   ]
  },
  {
   "cell_type": "code",
   "execution_count": 21,
   "metadata": {
    "ExecuteTime": {
     "end_time": "2019-01-30T21:56:16.899050Z",
     "start_time": "2019-01-30T21:56:16.480339Z"
    }
   },
   "outputs": [
    {
     "data": {
      "text/plain": [
       "<matplotlib.axes._subplots.AxesSubplot at 0xaf126208>"
      ]
     },
     "execution_count": 21,
     "metadata": {},
     "output_type": "execute_result"
    },
    {
     "data": {
      "image/png": "[encoded data removed]",
      "text/plain": [
       "<matplotlib.figure.Figure at 0xaf26c18>"
      ]
     },
     "metadata": {},
     "output_type": "display_data"
    }
   ],
   "source": [
    "overall_stats.plot.scatter(\"sessions\", \"campaigns\", color='b', \n",
    "                           title=\"Number of sessions vs campaigns launched\")"
   ]
  },
  {
   "cell_type": "code",
   "execution_count": 22,
   "metadata": {
    "ExecuteTime": {
     "end_time": "2019-01-30T21:56:16.911070Z",
     "start_time": "2019-01-30T21:56:16.902055Z"
    }
   },
   "outputs": [
    {
     "data": {
      "text/plain": [
       "0.5009"
      ]
     },
     "execution_count": 22,
     "metadata": {},
     "output_type": "execute_result"
    }
   ],
   "source": [
    "round(overall_stats[\"sessions\"].corr(overall_stats[\"campaigns\"]),4)"
   ]
  },
  {
   "cell_type": "markdown",
   "metadata": {},
   "source": [
    "### Average session duration vs. campaigns launched"
   ]
  },
  {
   "cell_type": "code",
   "execution_count": 23,
   "metadata": {
    "ExecuteTime": {
     "end_time": "2019-01-30T21:56:17.265672Z",
     "start_time": "2019-01-30T21:56:16.917080Z"
    }
   },
   "outputs": [
    {
     "data": {
      "text/plain": [
       "<matplotlib.axes._subplots.AxesSubplot at 0xe5520ac8>"
      ]
     },
     "execution_count": 23,
     "metadata": {},
     "output_type": "execute_result"
    },
    {
     "data": {
      "image/png": "[encoded data removed]",
      "text/plain": [
       "<matplotlib.figure.Figure at 0xe54915c0>"
      ]
     },
     "metadata": {},
     "output_type": "display_data"
    }
   ],
   "source": [
    "overall_stats.plot.scatter(\"avg session min\", \"campaigns\", color='r', \n",
    "                           title=\"Avg session duration vs campaigns launched\")"
   ]
  },
  {
   "cell_type": "code",
   "execution_count": 24,
   "metadata": {
    "ExecuteTime": {
     "end_time": "2019-01-30T21:56:17.279696Z",
     "start_time": "2019-01-30T21:56:17.270680Z"
    }
   },
   "outputs": [
    {
     "data": {
      "text/plain": [
       "0.0074"
      ]
     },
     "execution_count": 24,
     "metadata": {},
     "output_type": "execute_result"
    }
   ],
   "source": [
    "round(overall_stats[\"avg session min\"].corr(overall_stats[\"campaigns\"]),4)"
   ]
  },
  {
   "cell_type": "markdown",
   "metadata": {},
   "source": [
    "The correlation between number of sessions and number of campaigns launched is __0.5__ which is significant but not necessarily strong. The correlation between avg session minutes and campaigns launched is __.0075__ which is not significant (so no relationship). This tells me that youtube users aren't logging in to strictly launch new campaigns on a consistent basis. Most likely their initially creating campaigns and later logging in one or more times to check sales/stats."
   ]
  },
  {
   "cell_type": "markdown",
   "metadata": {},
   "source": [
    "## How many times are users visiting the site?"
   ]
  },
  {
   "cell_type": "markdown",
   "metadata": {},
   "source": [
    "Breaking up users 'number of visits' categories helps split users into groups providing some insight for low traffic users vs high traffic users.\n",
    "\n",
    "Based on the data I picked the visit categories of 1-2, 3-5, 6-10, 11-25, and > 100 visits."
   ]
  },
  {
   "cell_type": "code",
   "execution_count": 25,
   "metadata": {
    "ExecuteTime": {
     "end_time": "2019-01-30T21:56:19.242026Z",
     "start_time": "2019-01-30T21:56:17.284704Z"
    }
   },
   "outputs": [],
   "source": [
    "# bin users into number of website visits\n",
    "def visit_category(x):\n",
    "    if x <= 2:\n",
    "        category = '1-2'\n",
    "    elif x >= 3 and x <= 5:\n",
    "        category = '3-5'\n",
    "    elif x > 5 and x <= 10:\n",
    "        category = '6-10'\n",
    "    elif x > 10 and x <= 25:\n",
    "        category = '11-25'\n",
    "    elif x > 25 and x <= 100:\n",
    "        category = '26-100'\n",
    "    else:\n",
    "        category = '> 100'\n",
    "    return(category)\n",
    "overall_stats[\"visit_category\"] = overall_stats[\"sessions\"].apply(visit_category)"
   ]
  },
  {
   "cell_type": "code",
   "execution_count": 26,
   "metadata": {
    "ExecuteTime": {
     "end_time": "2019-01-30T21:56:19.558563Z",
     "start_time": "2019-01-30T21:56:19.245031Z"
    }
   },
   "outputs": [
    {
     "data": {
      "text/plain": [
       "Text(0.5,1,'Site Visits')"
      ]
     },
     "execution_count": 26,
     "metadata": {},
     "output_type": "execute_result"
    },
    {
     "data": {
      "image/png": "[encoded data removed]",
      "text/plain": [
       "<matplotlib.figure.Figure at 0xfa95b780>"
      ]
     },
     "metadata": {},
     "output_type": "display_data"
    }
   ],
   "source": [
    "ax = overall_stats[\"visit_category\"].value_counts().plot(kind='bar', figsize=(12,8), \n",
    "                                                         color='b')\n",
    "\n",
    "# get total\n",
    "totals = []\n",
    "for i in ax.patches:\n",
    "    totals.append(i.get_height())\n",
    "total = sum(totals)\n",
    "\n",
    "# set % of total\n",
    "for i in ax.patches:\n",
    "    ax.text(i.get_x()+.1, i.get_height()+20, \n",
    "            str(round((i.get_height()/total)*100, 2))+\"%\")\n",
    "    \n",
    "# set format\n",
    "for tick in ax.get_xticklabels():\n",
    "    tick.set_rotation(0) # change automatic rotation to 0\n",
    "ax.set_xlabel(\"Number of Visits\")\n",
    "ax.set_ylabel(\"Number of Users\")\n",
    "ax.set_title(\"Site Visits\")"
   ]
  },
  {
   "cell_type": "markdown",
   "metadata": {},
   "source": [
    "Close to half of users that sign up through youtube are signing up and possibly visiting once more before never returning. So the biggest piece of the puzzle lies in users who visit 1-2 times.\n",
    "\n",
    "Looking at the different categories, I'm curious if there's a differnce in average launches by user in different categories. That is, do high traffic users tend to pump out more campaigns or are they simply visiting many times to check sales.\n",
    "\n",
    "A boxplot for each group would show the distribution of average launches per visit by \"Visit Category\""
   ]
  },
  {
   "cell_type": "code",
   "execution_count": 27,
   "metadata": {
    "ExecuteTime": {
     "end_time": "2019-01-30T21:56:19.888122Z",
     "start_time": "2019-01-30T21:56:19.561568Z"
    }
   },
   "outputs": [
    {
     "name": "stderr",
     "output_type": "stream",
     "text": [
      "C:\\Users\\elliott.good\\AppData\\Local\\Continuum\\anaconda3\\lib\\site-packages\\numpy\\core\\fromnumeric.py:52: FutureWarning: reshape is deprecated and will raise in a subsequent release. Please use .values.reshape(...) instead\n",
      "  return getattr(obj, method)(*args, **kwds)\n"
     ]
    },
    {
     "data": {
      "image/png": "[encoded data removed]",
      "text/plain": [
       "<matplotlib.figure.Figure at 0x10a94d1d0>"
      ]
     },
     "metadata": {},
     "output_type": "display_data"
    }
   ],
   "source": [
    "# plot campaign launch distribution by visit category\n",
    "avg_launches = overall_stats.copy()\n",
    "avg_launches[\"launches per session\"] = avg_launches[\"campaigns\"]/avg_launches[\"sessions\"]\n",
    "\n",
    "fig, ax = plt.subplots()\n",
    "\n",
    "categories = [\"1-2\", \"3-5\", \"6-10\", \"11-25\", \"26-100\"] # '> 100' category skews data\n",
    "campaigns_launched = []\n",
    "for category in categories: # boxplot requires data be grouped in an array\n",
    "    campaigns_launched.append(avg_launches[avg_launches[\"visit_category\"] == \n",
    "                                           category][\"launches per session\"])\n",
    "\n",
    "bplot = ax.boxplot(campaigns_launched, patch_artist=True)\n",
    "\n",
    "# fill in box plots\n",
    "for patch in bplot['boxes']: \n",
    "    patch.set_facecolor(\"gray\")\n",
    "\n",
    "fig.set_figwidth(12)\n",
    "fig.set_figheight(8)\n",
    "\n",
    "ax.set_ylim(0, 2)\n",
    "ax.set_xlabel(\"Visit Category\")\n",
    "ax.set_ylabel(\"Campaigns Launched\")\n",
    "ax.set_xticklabels(categories)\n",
    "ax.set_title(\"Launches Per Session Distribution by Number of Visits\")\n",
    "\n",
    "plt.show()"
   ]
  },
  {
   "cell_type": "markdown",
   "metadata": {},
   "source": [
    "This shows that on avearage users launch close to .25 campaigns each visit _accross all visit categories_. So if we can get users to keep returning, they'll keep launching campaigns at the same rate. I'm guessing that if we can get some initial success for users who visit 1-2 times then maybe we can get them to keep returning and keep that success going.\n",
    "\n",
    "From here I'll just look at users who visit 1-2 times to see if we can get some insight as to what they're doing after signing up."
   ]
  },
  {
   "cell_type": "markdown",
   "metadata": {},
   "source": [
    "## How long are users who visit 1-2 times visiting?"
   ]
  },
  {
   "cell_type": "markdown",
   "metadata": {},
   "source": [
    "### Average time spent on site for users who visit 1-2 times"
   ]
  },
  {
   "cell_type": "code",
   "execution_count": 28,
   "metadata": {
    "ExecuteTime": {
     "end_time": "2019-01-30T21:56:20.626375Z",
     "start_time": "2019-01-30T21:56:19.891128Z"
    }
   },
   "outputs": [
    {
     "data": {
      "image/png": "[encoded data removed]",
      "text/plain": [
       "<matplotlib.figure.Figure at 0x154f2bcf8>"
      ]
     },
     "metadata": {},
     "output_type": "display_data"
    }
   ],
   "source": [
    "one_visit_users = overall_stats[overall_stats[\"visit_category\"] == \"1-2\"] # low traffic users\n",
    "# fit a gamma distribution\n",
    "data = one_visit_users[one_visit_users[\"avg session min\"] > 0][\"avg session min\"] # remove 0's\n",
    "alpha_hat, loc_hat, scale_hat = stats.gamma.fit(data, floc=0) # floc=0 since we know it starts at 0\n",
    "\n",
    "x_gamma = np.linspace(0, one_visit_users[\"avg session min\"].max(), 1000) # generate x's\n",
    "y_gamma = stats.gamma.pdf(x_gamma, alpha_hat, loc_hat, scale_hat) # fit values\n",
    "\n",
    "fig, ax = plt.subplots()\n",
    "\n",
    "ax.hist(data, normed=True, bins=70, label=\"Data\", color='b',\n",
    "        edgecolor='black',linewidth=1)\n",
    "ax.plot(x_gamma, y_gamma, label=\"Fit\", color='g', linewidth=3)\n",
    "\n",
    "fig.set_figheight(7)\n",
    "fig.set_figwidth(12)\n",
    "ax.set_title(\"Data with Gamma Distribution Fit\")\n",
    "ax.set_xlabel(\"Avg minutes per session\")\n",
    "ax.set_ylabel(\"Frequency, \"+r'$P(x)$')\n",
    "ax.legend()\n",
    "\n",
    "plt.show()"
   ]
  },
  {
   "cell_type": "code",
   "execution_count": 29,
   "metadata": {
    "ExecuteTime": {
     "end_time": "2019-01-30T21:56:20.636392Z",
     "start_time": "2019-01-30T21:56:20.628379Z"
    }
   },
   "outputs": [
    {
     "data": {
      "text/plain": [
       "13.222089155023289"
      ]
     },
     "execution_count": 29,
     "metadata": {},
     "output_type": "execute_result"
    }
   ],
   "source": [
    "# expected value for gamma E(X) = k*theta\n",
    "alpha_hat*scale_hat"
   ]
  },
  {
   "cell_type": "markdown",
   "metadata": {},
   "source": [
    "The expected amount of time a user who visits 1-2 times is about __13 minutes__. Each bin is about 2.5 minutes so we can see the _biggest group are users who spend about 2.5 minutes_ on the site. So they sign up, maybe check out a few things, then quickly leave. So most likely a lot of these users aren't experiencing all teespring has to offer."
   ]
  },
  {
   "cell_type": "markdown",
   "metadata": {},
   "source": [
    "## What are 1-2 visit users doing after signing up?"
   ]
  },
  {
   "cell_type": "code",
   "execution_count": 30,
   "metadata": {
    "ExecuteTime": {
     "end_time": "2019-01-30T21:56:39.223938Z",
     "start_time": "2019-01-30T21:56:20.641401Z"
    }
   },
   "outputs": [],
   "source": [
    "### user activity ###\n",
    "user_events = website_views.copy()\n",
    "user_events[\"event_group\"] = [i[0] for i in user_events[\"event_type\"].str.split(\".\")]\n",
    "user_events = user_events.drop(labels=[\"event_id\", \"session_id\", \"amplitude_id\", \"event_type\", \n",
    "                         \"new_session\"],axis=1)"
   ]
  },
  {
   "cell_type": "code",
   "execution_count": 31,
   "metadata": {
    "ExecuteTime": {
     "end_time": "2019-01-30T21:56:53.022355Z",
     "start_time": "2019-01-30T21:56:39.226943Z"
    }
   },
   "outputs": [],
   "source": [
    "user_summary = user_events.groupby(by=[\"user_id\", \"session\", \"event_group\"], as_index=False)\\\n",
    "    [[\"event_time\"]].agg([\"min\", \"max\"])\n",
    "user_summary.columns = user_summary.columns.droplevel(0) # drop grouped columns\n",
    "user_summary = user_summary.reset_index() # drop grouped index\n",
    "# get time between first and last event in event group per user/session\n",
    "user_summary[\"time_spent\"] = round((user_summary[\"max\"] - \n",
    "                                   user_summary[\"min\"]).dt.seconds/60,2) # convert to minutes"
   ]
  },
  {
   "cell_type": "code",
   "execution_count": 32,
   "metadata": {
    "ExecuteTime": {
     "end_time": "2019-01-30T21:56:53.716533Z",
     "start_time": "2019-01-30T21:56:53.026362Z"
    }
   },
   "outputs": [],
   "source": [
    "# summarize time spent in each user's event_group\n",
    "user_summary = user_summary.groupby(by=[\"user_id\", \"event_group\"],\n",
    "                                   as_index=False)[[\"time_spent\"]].sum()\n",
    "# combine user summary with overall stats\n",
    "user_summary = user_summary.merge(overall_stats, on=\"user_id\",how=\"left\")"
   ]
  },
  {
   "cell_type": "markdown",
   "metadata": {},
   "source": [
    "### All event groupings"
   ]
  },
  {
   "cell_type": "markdown",
   "metadata": {},
   "source": [
    "This list shows time spent in amplitude's \"event type\" categories. Each category has further detail but was truncated to show overall trends."
   ]
  },
  {
   "cell_type": "code",
   "execution_count": 33,
   "metadata": {
    "ExecuteTime": {
     "end_time": "2019-01-30T21:56:53.811695Z",
     "start_time": "2019-01-30T21:56:53.719538Z"
    }
   },
   "outputs": [
    {
     "data": {
      "text/html": [
       "<div>\n",
       "<style scoped>\n",
       "    .dataframe tbody tr th:only-of-type {\n",
       "        vertical-align: middle;\n",
       "    }\n",
       "\n",
       "    .dataframe tbody tr th {\n",
       "        vertical-align: top;\n",
       "    }\n",
       "\n",
       "    .dataframe thead th {\n",
       "        text-align: right;\n",
       "    }\n",
       "</style>\n",
       "<table border=\"1\" class=\"dataframe\">\n",
       "  <thead>\n",
       "    <tr style=\"text-align: right;\">\n",
       "      <th></th>\n",
       "      <th>event_group</th>\n",
       "      <th>time_spent</th>\n",
       "      <th>% total</th>\n",
       "    </tr>\n",
       "  </thead>\n",
       "  <tbody>\n",
       "    <tr>\n",
       "      <th>35</th>\n",
       "      <td>launcher</td>\n",
       "      <td>48928.17</td>\n",
       "      <td>33.61</td>\n",
       "    </tr>\n",
       "    <tr>\n",
       "      <th>32</th>\n",
       "      <td>header</td>\n",
       "      <td>19031.06</td>\n",
       "      <td>13.07</td>\n",
       "    </tr>\n",
       "    <tr>\n",
       "      <th>6</th>\n",
       "      <td>campaigns_show</td>\n",
       "      <td>11304.13</td>\n",
       "      <td>7.76</td>\n",
       "    </tr>\n",
       "    <tr>\n",
       "      <th>46</th>\n",
       "      <td>referrer_viewed</td>\n",
       "      <td>11039.90</td>\n",
       "      <td>7.58</td>\n",
       "    </tr>\n",
       "    <tr>\n",
       "      <th>33</th>\n",
       "      <td>homepage_show</td>\n",
       "      <td>10197.76</td>\n",
       "      <td>7.00</td>\n",
       "    </tr>\n",
       "    <tr>\n",
       "      <th>14</th>\n",
       "      <td>composer</td>\n",
       "      <td>8958.53</td>\n",
       "      <td>6.15</td>\n",
       "    </tr>\n",
       "    <tr>\n",
       "      <th>18</th>\n",
       "      <td>dashboard_campaigns</td>\n",
       "      <td>8345.56</td>\n",
       "      <td>5.73</td>\n",
       "    </tr>\n",
       "    <tr>\n",
       "      <th>37</th>\n",
       "      <td>optimizely</td>\n",
       "      <td>4668.38</td>\n",
       "      <td>3.21</td>\n",
       "    </tr>\n",
       "    <tr>\n",
       "      <th>16</th>\n",
       "      <td>dashboard_account_settings</td>\n",
       "      <td>3953.00</td>\n",
       "      <td>2.72</td>\n",
       "    </tr>\n",
       "    <tr>\n",
       "      <th>51</th>\n",
       "      <td>stores_index</td>\n",
       "      <td>3795.36</td>\n",
       "      <td>2.61</td>\n",
       "    </tr>\n",
       "    <tr>\n",
       "      <th>3</th>\n",
       "      <td>campaign_analytics_index</td>\n",
       "      <td>3251.90</td>\n",
       "      <td>2.23</td>\n",
       "    </tr>\n",
       "    <tr>\n",
       "      <th>27</th>\n",
       "      <td>direct_composer</td>\n",
       "      <td>2007.52</td>\n",
       "      <td>1.38</td>\n",
       "    </tr>\n",
       "    <tr>\n",
       "      <th>19</th>\n",
       "      <td>dashboard_integrations</td>\n",
       "      <td>1910.90</td>\n",
       "      <td>1.31</td>\n",
       "    </tr>\n",
       "    <tr>\n",
       "      <th>53</th>\n",
       "      <td>stores_show</td>\n",
       "      <td>1333.61</td>\n",
       "      <td>0.92</td>\n",
       "    </tr>\n",
       "    <tr>\n",
       "      <th>5</th>\n",
       "      <td>campaigns_edit</td>\n",
       "      <td>1197.35</td>\n",
       "      <td>0.82</td>\n",
       "    </tr>\n",
       "    <tr>\n",
       "      <th>4</th>\n",
       "      <td>campaign_settings_show</td>\n",
       "      <td>611.45</td>\n",
       "      <td>0.42</td>\n",
       "    </tr>\n",
       "    <tr>\n",
       "      <th>23</th>\n",
       "      <td>dashboard_payouts</td>\n",
       "      <td>583.49</td>\n",
       "      <td>0.40</td>\n",
       "    </tr>\n",
       "    <tr>\n",
       "      <th>47</th>\n",
       "      <td>search</td>\n",
       "      <td>391.38</td>\n",
       "      <td>0.27</td>\n",
       "    </tr>\n",
       "    <tr>\n",
       "      <th>10</th>\n",
       "      <td>category_page</td>\n",
       "      <td>378.48</td>\n",
       "      <td>0.26</td>\n",
       "    </tr>\n",
       "    <tr>\n",
       "      <th>9</th>\n",
       "      <td>categories_show</td>\n",
       "      <td>375.34</td>\n",
       "      <td>0.26</td>\n",
       "    </tr>\n",
       "    <tr>\n",
       "      <th>20</th>\n",
       "      <td>dashboard_marketing</td>\n",
       "      <td>358.16</td>\n",
       "      <td>0.25</td>\n",
       "    </tr>\n",
       "    <tr>\n",
       "      <th>48</th>\n",
       "      <td>sessions_new</td>\n",
       "      <td>341.65</td>\n",
       "      <td>0.23</td>\n",
       "    </tr>\n",
       "    <tr>\n",
       "      <th>57</th>\n",
       "      <td>utm_params</td>\n",
       "      <td>334.52</td>\n",
       "      <td>0.23</td>\n",
       "    </tr>\n",
       "    <tr>\n",
       "      <th>26</th>\n",
       "      <td>dashboard_volume_discount</td>\n",
       "      <td>296.36</td>\n",
       "      <td>0.20</td>\n",
       "    </tr>\n",
       "    <tr>\n",
       "      <th>52</th>\n",
       "      <td>stores_new</td>\n",
       "      <td>271.54</td>\n",
       "      <td>0.19</td>\n",
       "    </tr>\n",
       "    <tr>\n",
       "      <th>21</th>\n",
       "      <td>dashboard_messages</td>\n",
       "      <td>246.77</td>\n",
       "      <td>0.17</td>\n",
       "    </tr>\n",
       "    <tr>\n",
       "      <th>50</th>\n",
       "      <td>shopping_cart_show</td>\n",
       "      <td>228.82</td>\n",
       "      <td>0.16</td>\n",
       "    </tr>\n",
       "    <tr>\n",
       "      <th>12</th>\n",
       "      <td>checkout_buy</td>\n",
       "      <td>230.84</td>\n",
       "      <td>0.16</td>\n",
       "    </tr>\n",
       "    <tr>\n",
       "      <th>24</th>\n",
       "      <td>dashboard_promotions</td>\n",
       "      <td>196.42</td>\n",
       "      <td>0.13</td>\n",
       "    </tr>\n",
       "    <tr>\n",
       "      <th>17</th>\n",
       "      <td>dashboard_achievement_list</td>\n",
       "      <td>160.65</td>\n",
       "      <td>0.11</td>\n",
       "    </tr>\n",
       "    <tr>\n",
       "      <th>40</th>\n",
       "      <td>pages__static_anything</td>\n",
       "      <td>153.92</td>\n",
       "      <td>0.11</td>\n",
       "    </tr>\n",
       "    <tr>\n",
       "      <th>36</th>\n",
       "      <td>opt_experiment</td>\n",
       "      <td>142.75</td>\n",
       "      <td>0.10</td>\n",
       "    </tr>\n",
       "    <tr>\n",
       "      <th>42</th>\n",
       "      <td>pages__static_how_it_works</td>\n",
       "      <td>84.84</td>\n",
       "      <td>0.06</td>\n",
       "    </tr>\n",
       "    <tr>\n",
       "      <th>30</th>\n",
       "      <td>footer</td>\n",
       "      <td>78.12</td>\n",
       "      <td>0.05</td>\n",
       "    </tr>\n",
       "    <tr>\n",
       "      <th>41</th>\n",
       "      <td>pages__static_everywhere</td>\n",
       "      <td>39.82</td>\n",
       "      <td>0.03</td>\n",
       "    </tr>\n",
       "    <tr>\n",
       "      <th>8</th>\n",
       "      <td>categories_index</td>\n",
       "      <td>39.44</td>\n",
       "      <td>0.03</td>\n",
       "    </tr>\n",
       "    <tr>\n",
       "      <th>44</th>\n",
       "      <td>recommendations</td>\n",
       "      <td>44.06</td>\n",
       "      <td>0.03</td>\n",
       "    </tr>\n",
       "    <tr>\n",
       "      <th>34</th>\n",
       "      <td>item</td>\n",
       "      <td>14.12</td>\n",
       "      <td>0.01</td>\n",
       "    </tr>\n",
       "    <tr>\n",
       "      <th>38</th>\n",
       "      <td>order</td>\n",
       "      <td>14.12</td>\n",
       "      <td>0.01</td>\n",
       "    </tr>\n",
       "    <tr>\n",
       "      <th>2</th>\n",
       "      <td>campaign</td>\n",
       "      <td>8.85</td>\n",
       "      <td>0.01</td>\n",
       "    </tr>\n",
       "    <tr>\n",
       "      <th>49</th>\n",
       "      <td>shopping_cart</td>\n",
       "      <td>9.33</td>\n",
       "      <td>0.01</td>\n",
       "    </tr>\n",
       "    <tr>\n",
       "      <th>43</th>\n",
       "      <td>payoneer</td>\n",
       "      <td>11.34</td>\n",
       "      <td>0.01</td>\n",
       "    </tr>\n",
       "    <tr>\n",
       "      <th>56</th>\n",
       "      <td>user</td>\n",
       "      <td>0.00</td>\n",
       "      <td>0.00</td>\n",
       "    </tr>\n",
       "    <tr>\n",
       "      <th>55</th>\n",
       "      <td>thank_you_show</td>\n",
       "      <td>3.74</td>\n",
       "      <td>0.00</td>\n",
       "    </tr>\n",
       "    <tr>\n",
       "      <th>54</th>\n",
       "      <td>teespring_europe_show</td>\n",
       "      <td>0.00</td>\n",
       "      <td>0.00</td>\n",
       "    </tr>\n",
       "    <tr>\n",
       "      <th>0</th>\n",
       "      <td>address_validation</td>\n",
       "      <td>0.00</td>\n",
       "      <td>0.00</td>\n",
       "    </tr>\n",
       "    <tr>\n",
       "      <th>45</th>\n",
       "      <td>referrer_ordered</td>\n",
       "      <td>3.62</td>\n",
       "      <td>0.00</td>\n",
       "    </tr>\n",
       "    <tr>\n",
       "      <th>39</th>\n",
       "      <td>order_summary</td>\n",
       "      <td>0.00</td>\n",
       "      <td>0.00</td>\n",
       "    </tr>\n",
       "    <tr>\n",
       "      <th>31</th>\n",
       "      <td>global</td>\n",
       "      <td>0.12</td>\n",
       "      <td>0.00</td>\n",
       "    </tr>\n",
       "    <tr>\n",
       "      <th>1</th>\n",
       "      <td>anything</td>\n",
       "      <td>0.00</td>\n",
       "      <td>0.00</td>\n",
       "    </tr>\n",
       "    <tr>\n",
       "      <th>28</th>\n",
       "      <td>end_early_show</td>\n",
       "      <td>6.15</td>\n",
       "      <td>0.00</td>\n",
       "    </tr>\n",
       "    <tr>\n",
       "      <th>25</th>\n",
       "      <td>dashboard_upsells</td>\n",
       "      <td>2.66</td>\n",
       "      <td>0.00</td>\n",
       "    </tr>\n",
       "    <tr>\n",
       "      <th>22</th>\n",
       "      <td>dashboard_orders</td>\n",
       "      <td>0.00</td>\n",
       "      <td>0.00</td>\n",
       "    </tr>\n",
       "    <tr>\n",
       "      <th>15</th>\n",
       "      <td>create_similar_campaign</td>\n",
       "      <td>0.00</td>\n",
       "      <td>0.00</td>\n",
       "    </tr>\n",
       "    <tr>\n",
       "      <th>13</th>\n",
       "      <td>checkout_finish_paypal</td>\n",
       "      <td>0.00</td>\n",
       "      <td>0.00</td>\n",
       "    </tr>\n",
       "    <tr>\n",
       "      <th>11</th>\n",
       "      <td>checkout</td>\n",
       "      <td>0.00</td>\n",
       "      <td>0.00</td>\n",
       "    </tr>\n",
       "    <tr>\n",
       "      <th>7</th>\n",
       "      <td>cart_purchase</td>\n",
       "      <td>3.62</td>\n",
       "      <td>0.00</td>\n",
       "    </tr>\n",
       "    <tr>\n",
       "      <th>29</th>\n",
       "      <td>errors_error_404</td>\n",
       "      <td>0.10</td>\n",
       "      <td>0.00</td>\n",
       "    </tr>\n",
       "  </tbody>\n",
       "</table>\n",
       "</div>"
      ],
      "text/plain": [
       "                   event_group  time_spent  % total\n",
       "35                    launcher    48928.17    33.61\n",
       "32                      header    19031.06    13.07\n",
       "6               campaigns_show    11304.13     7.76\n",
       "46             referrer_viewed    11039.90     7.58\n",
       "33               homepage_show    10197.76     7.00\n",
       "14                    composer     8958.53     6.15\n",
       "18         dashboard_campaigns     8345.56     5.73\n",
       "37                  optimizely     4668.38     3.21\n",
       "16  dashboard_account_settings     3953.00     2.72\n",
       "51                stores_index     3795.36     2.61\n",
       "3     campaign_analytics_index     3251.90     2.23\n",
       "27             direct_composer     2007.52     1.38\n",
       "19      dashboard_integrations     1910.90     1.31\n",
       "53                 stores_show     1333.61     0.92\n",
       "5               campaigns_edit     1197.35     0.82\n",
       "4       campaign_settings_show      611.45     0.42\n",
       "23           dashboard_payouts      583.49     0.40\n",
       "47                      search      391.38     0.27\n",
       "10               category_page      378.48     0.26\n",
       "9              categories_show      375.34     0.26\n",
       "20         dashboard_marketing      358.16     0.25\n",
       "48                sessions_new      341.65     0.23\n",
       "57                  utm_params      334.52     0.23\n",
       "26   dashboard_volume_discount      296.36     0.20\n",
       "52                  stores_new      271.54     0.19\n",
       "21          dashboard_messages      246.77     0.17\n",
       "50          shopping_cart_show      228.82     0.16\n",
       "12                checkout_buy      230.84     0.16\n",
       "24        dashboard_promotions      196.42     0.13\n",
       "17  dashboard_achievement_list      160.65     0.11\n",
       "40      pages__static_anything      153.92     0.11\n",
       "36              opt_experiment      142.75     0.10\n",
       "42  pages__static_how_it_works       84.84     0.06\n",
       "30                      footer       78.12     0.05\n",
       "41    pages__static_everywhere       39.82     0.03\n",
       "8             categories_index       39.44     0.03\n",
       "44             recommendations       44.06     0.03\n",
       "34                        item       14.12     0.01\n",
       "38                       order       14.12     0.01\n",
       "2                     campaign        8.85     0.01\n",
       "49               shopping_cart        9.33     0.01\n",
       "43                    payoneer       11.34     0.01\n",
       "56                        user        0.00     0.00\n",
       "55              thank_you_show        3.74     0.00\n",
       "54       teespring_europe_show        0.00     0.00\n",
       "0           address_validation        0.00     0.00\n",
       "45            referrer_ordered        3.62     0.00\n",
       "39               order_summary        0.00     0.00\n",
       "31                      global        0.12     0.00\n",
       "1                     anything        0.00     0.00\n",
       "28              end_early_show        6.15     0.00\n",
       "25           dashboard_upsells        2.66     0.00\n",
       "22            dashboard_orders        0.00     0.00\n",
       "15     create_similar_campaign        0.00     0.00\n",
       "13      checkout_finish_paypal        0.00     0.00\n",
       "11                    checkout        0.00     0.00\n",
       "7                cart_purchase        3.62     0.00\n",
       "29            errors_error_404        0.10     0.00"
      ]
     },
     "execution_count": 33,
     "metadata": {},
     "output_type": "execute_result"
    }
   ],
   "source": [
    "### summarize what 1-2 visit users are looking at ###\n",
    "low_users_summary = user_summary[user_summary[\"visit_category\"]==\"1-2\"]\n",
    "low_users_summary = low_users_summary.groupby(by=\"event_group\",as_index=False)[[\"time_spent\"]].sum()\n",
    "\n",
    "# get % of total, show top event groups\n",
    "low_users_summary[\"% total\"] = round(low_users_summary[\"time_spent\"]/\n",
    "                                     low_users_summary[\"time_spent\"].sum(),4)*100\n",
    "low_users_summary.sort_values(\"% total\", ascending=False)"
   ]
  },
  {
   "cell_type": "markdown",
   "metadata": {},
   "source": [
    "Since there are so many groups I'll categorize anything under 1% of total as \"other\""
   ]
  },
  {
   "cell_type": "code",
   "execution_count": 34,
   "metadata": {
    "ExecuteTime": {
     "end_time": "2019-01-30T21:56:53.827722Z",
     "start_time": "2019-01-30T21:56:53.814700Z"
    }
   },
   "outputs": [],
   "source": [
    "# filter down event groups so that everything below a threshold is merged into 'other'\n",
    "low_users_summary[\"event_category\"] = low_users_summary.apply(\n",
    "    lambda row: row[\"event_group\"] if row[\"% total\"] > .50 else 'other',axis=1)\n",
    "# sum 'other'\n",
    "low_users_summary = low_users_summary.groupby(by=\"event_category\", as_index=False).sum()"
   ]
  },
  {
   "cell_type": "code",
   "execution_count": 35,
   "metadata": {
    "ExecuteTime": {
     "end_time": "2019-01-30T21:56:53.840744Z",
     "start_time": "2019-01-30T21:56:53.833732Z"
    }
   },
   "outputs": [],
   "source": [
    "low_users_summary.sort_values(\"% total\", ascending=False, inplace=True)\n",
    "low_users_summary.reset_index(inplace=True)\n",
    "low_users_summary.drop(labels=[\"index\"], axis=1, inplace=True)"
   ]
  },
  {
   "cell_type": "markdown",
   "metadata": {},
   "source": [
    "### Event Categories % Time Spent for 1-2 Visit Users"
   ]
  },
  {
   "cell_type": "code",
   "execution_count": 36,
   "metadata": {
    "ExecuteTime": {
     "end_time": "2019-01-30T21:56:54.276483Z",
     "start_time": "2019-01-30T21:56:53.844751Z"
    }
   },
   "outputs": [
    {
     "data": {
      "image/png": "[encoded data removed]",
      "text/plain": [
       "<matplotlib.figure.Figure at 0x14bd63b38>"
      ]
     },
     "metadata": {},
     "output_type": "display_data"
    }
   ],
   "source": [
    "fig, ax = plt.subplots()\n",
    "\n",
    "fig.set_figwidth(12)\n",
    "fig.set_figheight(10)\n",
    "\n",
    "# in order to order by biggest to smallest we have to plot % total with dummy index\n",
    "# then manually change index the number of categories in our list (yticks) then\n",
    "# set the lables to our categories (yticklabels)\n",
    "ax.barh(range(len(low_users_summary)),low_users_summary[\"% total\"])\n",
    "ax.set_yticks(range(len(low_users_summary)))\n",
    "ax.set_yticklabels(low_users_summary[\"event_category\"])\n",
    "\n",
    "ax.set_xlabel(\"Percent of Total\")\n",
    "# ax.set_ylabel(\"Event Category\")\n",
    "ax.set_title(\"Website Activity Distribution for 1-2 Visit Users\")\n",
    "\n",
    "plt.show()"
   ]
  },
  {
   "cell_type": "markdown",
   "metadata": {},
   "source": [
    "Most of the time users are working in the launcher. The top 50% are launcher, header, and campaigns_show. I'm not sure what 'header' refers to but the other two indicates users are primarily working in launcher and reviewing their campaigns.\n",
    "\n",
    "This data might be skewed due to the outlier users that spend > 30 minutes in their 1-2 sessions. If we break it down by splitting out these two groups we get the below graph."
   ]
  },
  {
   "cell_type": "code",
   "execution_count": 37,
   "metadata": {
    "ExecuteTime": {
     "end_time": "2019-01-30T21:56:54.428742Z",
     "start_time": "2019-01-30T21:56:54.278487Z"
    }
   },
   "outputs": [
    {
     "data": {
      "text/html": [
       "<div>\n",
       "<style scoped>\n",
       "    .dataframe tbody tr th:only-of-type {\n",
       "        vertical-align: middle;\n",
       "    }\n",
       "\n",
       "    .dataframe tbody tr th {\n",
       "        vertical-align: top;\n",
       "    }\n",
       "\n",
       "    .dataframe thead th {\n",
       "        text-align: right;\n",
       "    }\n",
       "</style>\n",
       "<table border=\"1\" class=\"dataframe\">\n",
       "  <thead>\n",
       "    <tr style=\"text-align: right;\">\n",
       "      <th>user_type</th>\n",
       "      <th>event_category</th>\n",
       "      <th>&lt; 30 min</th>\n",
       "      <th>&gt;= 30 min</th>\n",
       "      <th>total_time</th>\n",
       "      <th>% Column Total</th>\n",
       "      <th>&lt; 30 min % total</th>\n",
       "      <th>&gt;= 30 min % total</th>\n",
       "    </tr>\n",
       "  </thead>\n",
       "  <tbody>\n",
       "    <tr>\n",
       "      <th>0</th>\n",
       "      <td>launcher</td>\n",
       "      <td>25668.38</td>\n",
       "      <td>23259.79</td>\n",
       "      <td>48928.17</td>\n",
       "      <td>33.61</td>\n",
       "      <td>52.46</td>\n",
       "      <td>47.54</td>\n",
       "    </tr>\n",
       "    <tr>\n",
       "      <th>1</th>\n",
       "      <td>header</td>\n",
       "      <td>7280.20</td>\n",
       "      <td>11750.86</td>\n",
       "      <td>19031.06</td>\n",
       "      <td>13.07</td>\n",
       "      <td>38.25</td>\n",
       "      <td>61.75</td>\n",
       "    </tr>\n",
       "    <tr>\n",
       "      <th>2</th>\n",
       "      <td>campaigns_show</td>\n",
       "      <td>3345.77</td>\n",
       "      <td>7958.36</td>\n",
       "      <td>11304.13</td>\n",
       "      <td>7.76</td>\n",
       "      <td>29.60</td>\n",
       "      <td>70.40</td>\n",
       "    </tr>\n",
       "    <tr>\n",
       "      <th>3</th>\n",
       "      <td>referrer_viewed</td>\n",
       "      <td>3196.01</td>\n",
       "      <td>7843.89</td>\n",
       "      <td>11039.90</td>\n",
       "      <td>7.58</td>\n",
       "      <td>28.95</td>\n",
       "      <td>71.05</td>\n",
       "    </tr>\n",
       "    <tr>\n",
       "      <th>4</th>\n",
       "      <td>homepage_show</td>\n",
       "      <td>3421.06</td>\n",
       "      <td>6776.70</td>\n",
       "      <td>10197.76</td>\n",
       "      <td>7.00</td>\n",
       "      <td>33.55</td>\n",
       "      <td>66.45</td>\n",
       "    </tr>\n",
       "    <tr>\n",
       "      <th>5</th>\n",
       "      <td>composer</td>\n",
       "      <td>4408.35</td>\n",
       "      <td>4550.18</td>\n",
       "      <td>8958.53</td>\n",
       "      <td>6.15</td>\n",
       "      <td>49.21</td>\n",
       "      <td>50.79</td>\n",
       "    </tr>\n",
       "    <tr>\n",
       "      <th>6</th>\n",
       "      <td>dashboard_campaigns</td>\n",
       "      <td>2490.24</td>\n",
       "      <td>5855.32</td>\n",
       "      <td>8345.56</td>\n",
       "      <td>5.73</td>\n",
       "      <td>29.84</td>\n",
       "      <td>70.16</td>\n",
       "    </tr>\n",
       "    <tr>\n",
       "      <th>7</th>\n",
       "      <td>other</td>\n",
       "      <td>1539.79</td>\n",
       "      <td>4126.80</td>\n",
       "      <td>5666.59</td>\n",
       "      <td>3.90</td>\n",
       "      <td>27.17</td>\n",
       "      <td>72.83</td>\n",
       "    </tr>\n",
       "    <tr>\n",
       "      <th>8</th>\n",
       "      <td>optimizely</td>\n",
       "      <td>1463.37</td>\n",
       "      <td>3205.01</td>\n",
       "      <td>4668.38</td>\n",
       "      <td>3.21</td>\n",
       "      <td>31.35</td>\n",
       "      <td>68.65</td>\n",
       "    </tr>\n",
       "    <tr>\n",
       "      <th>9</th>\n",
       "      <td>dashboard_account_settings</td>\n",
       "      <td>1503.86</td>\n",
       "      <td>2449.14</td>\n",
       "      <td>3953.00</td>\n",
       "      <td>2.72</td>\n",
       "      <td>38.04</td>\n",
       "      <td>61.96</td>\n",
       "    </tr>\n",
       "    <tr>\n",
       "      <th>10</th>\n",
       "      <td>stores_index</td>\n",
       "      <td>738.92</td>\n",
       "      <td>3056.44</td>\n",
       "      <td>3795.36</td>\n",
       "      <td>2.61</td>\n",
       "      <td>19.47</td>\n",
       "      <td>80.53</td>\n",
       "    </tr>\n",
       "    <tr>\n",
       "      <th>11</th>\n",
       "      <td>campaign_analytics_index</td>\n",
       "      <td>1152.06</td>\n",
       "      <td>2099.84</td>\n",
       "      <td>3251.90</td>\n",
       "      <td>2.23</td>\n",
       "      <td>35.43</td>\n",
       "      <td>64.57</td>\n",
       "    </tr>\n",
       "    <tr>\n",
       "      <th>12</th>\n",
       "      <td>direct_composer</td>\n",
       "      <td>1393.34</td>\n",
       "      <td>614.18</td>\n",
       "      <td>2007.52</td>\n",
       "      <td>1.38</td>\n",
       "      <td>69.41</td>\n",
       "      <td>30.59</td>\n",
       "    </tr>\n",
       "    <tr>\n",
       "      <th>13</th>\n",
       "      <td>dashboard_integrations</td>\n",
       "      <td>753.50</td>\n",
       "      <td>1157.40</td>\n",
       "      <td>1910.90</td>\n",
       "      <td>1.31</td>\n",
       "      <td>39.43</td>\n",
       "      <td>60.57</td>\n",
       "    </tr>\n",
       "    <tr>\n",
       "      <th>14</th>\n",
       "      <td>stores_show</td>\n",
       "      <td>279.45</td>\n",
       "      <td>1054.16</td>\n",
       "      <td>1333.61</td>\n",
       "      <td>0.92</td>\n",
       "      <td>20.95</td>\n",
       "      <td>79.05</td>\n",
       "    </tr>\n",
       "    <tr>\n",
       "      <th>15</th>\n",
       "      <td>campaigns_edit</td>\n",
       "      <td>184.77</td>\n",
       "      <td>1012.58</td>\n",
       "      <td>1197.35</td>\n",
       "      <td>0.82</td>\n",
       "      <td>15.43</td>\n",
       "      <td>84.57</td>\n",
       "    </tr>\n",
       "  </tbody>\n",
       "</table>\n",
       "</div>"
      ],
      "text/plain": [
       "user_type              event_category  < 30 min  >= 30 min  total_time  \\\n",
       "0                            launcher  25668.38   23259.79    48928.17   \n",
       "1                              header   7280.20   11750.86    19031.06   \n",
       "2                      campaigns_show   3345.77    7958.36    11304.13   \n",
       "3                     referrer_viewed   3196.01    7843.89    11039.90   \n",
       "4                       homepage_show   3421.06    6776.70    10197.76   \n",
       "5                            composer   4408.35    4550.18     8958.53   \n",
       "6                 dashboard_campaigns   2490.24    5855.32     8345.56   \n",
       "7                               other   1539.79    4126.80     5666.59   \n",
       "8                          optimizely   1463.37    3205.01     4668.38   \n",
       "9          dashboard_account_settings   1503.86    2449.14     3953.00   \n",
       "10                       stores_index    738.92    3056.44     3795.36   \n",
       "11           campaign_analytics_index   1152.06    2099.84     3251.90   \n",
       "12                    direct_composer   1393.34     614.18     2007.52   \n",
       "13             dashboard_integrations    753.50    1157.40     1910.90   \n",
       "14                        stores_show    279.45    1054.16     1333.61   \n",
       "15                     campaigns_edit    184.77    1012.58     1197.35   \n",
       "\n",
       "user_type  % Column Total  < 30 min % total  >= 30 min % total  \n",
       "0                   33.61             52.46              47.54  \n",
       "1                   13.07             38.25              61.75  \n",
       "2                    7.76             29.60              70.40  \n",
       "3                    7.58             28.95              71.05  \n",
       "4                    7.00             33.55              66.45  \n",
       "5                    6.15             49.21              50.79  \n",
       "6                    5.73             29.84              70.16  \n",
       "7                    3.90             27.17              72.83  \n",
       "8                    3.21             31.35              68.65  \n",
       "9                    2.72             38.04              61.96  \n",
       "10                   2.61             19.47              80.53  \n",
       "11                   2.23             35.43              64.57  \n",
       "12                   1.38             69.41              30.59  \n",
       "13                   1.31             39.43              60.57  \n",
       "14                   0.92             20.95              79.05  \n",
       "15                   0.82             15.43              84.57  "
      ]
     },
     "execution_count": 37,
     "metadata": {},
     "output_type": "execute_result"
    }
   ],
   "source": [
    "### Split users into two groups - those below and those above 30 min avg session time ###\n",
    "low_user_split = user_summary.loc[user_summary[\"visit_category\"]==\"1-2\",:]\n",
    "low_user_split.is_copy = False # explicitly show this sub-dataframe is not a copy but a new dataframe (no caveat)\n",
    "low_user_split[\"user_type\"] = low_user_split.loc[:,\"avg session min\"].apply(\n",
    "    lambda x: \"< 30 min\" if x < 30.0 else \">= 30 min\") # split users\n",
    "low_user_split = low_user_split.groupby(by=[\"event_group\", \"user_type\"],\n",
    "                                        as_index=False)[[\"time_spent\"]].sum()\n",
    "\n",
    "# pivot user type column\n",
    "low_user_split = low_user_split.pivot_table(\"time_spent\", \"event_group\", \"user_type\")\n",
    "low_user_split.reset_index(inplace=True)\n",
    "# add total time, % column total\n",
    "low_user_split[\"total_time\"] = low_user_split[\"< 30 min\"] + low_user_split[\">= 30 min\"]\n",
    "low_user_split[\"% Column Total\"] = round(low_user_split[\"total_time\"]/low_user_split[\"total_time\"].sum(),4)*100\n",
    "# filter down event groups so that everything below a threshold is merged into 'other'\n",
    "low_user_split[\"event_category\"] = low_user_split.apply(\n",
    "    lambda row: row[\"event_group\"] if row[\"% Column Total\"] > .50 else 'other',axis=1)\n",
    "# sum 'other'\n",
    "low_user_split = low_user_split.groupby(by=\"event_category\", as_index=False).sum()\n",
    "# get % of user groups\n",
    "low_user_split[\"< 30 min % total\"] = round(low_user_split[\"< 30 min\"]/\n",
    "                                           low_user_split[\"total_time\"],4)*100\n",
    "low_user_split[\">= 30 min % total\"] = round(low_user_split[\">= 30 min\"]/\n",
    "                                            low_user_split[\"total_time\"],4)*100\n",
    "low_user_split.fillna(value=0,inplace=True) # replace NA's with 0\n",
    "# sort values\n",
    "low_user_split.sort_values(\"% Column Total\", ascending=False, inplace=True)\n",
    "low_user_split.reset_index(inplace=True)\n",
    "low_user_split.drop(labels=[\"index\"], axis=1, inplace=True)\n",
    "\n",
    "low_user_split"
   ]
  },
  {
   "cell_type": "code",
   "execution_count": 38,
   "metadata": {
    "ExecuteTime": {
     "end_time": "2019-01-30T21:56:55.118913Z",
     "start_time": "2019-01-30T21:56:54.432749Z"
    }
   },
   "outputs": [
    {
     "data": {
      "image/png": "[encoded data removed]",
      "text/plain": [
       "<matplotlib.figure.Figure at 0x14f4cb390>"
      ]
     },
     "metadata": {},
     "output_type": "display_data"
    }
   ],
   "source": [
    "fig, ax = plt.subplots()\n",
    "\n",
    "fig.set_figwidth(16)\n",
    "fig.set_figheight(10)\n",
    "\n",
    "ax.barh(range(len(low_user_split)), low_user_split[\"< 30 min\"], label=\"< 30 min\")\n",
    "ax.barh(range(len(low_user_split)), low_user_split[\">= 30 min\"], \n",
    "        left=low_user_split[\"< 30 min\"], label=\">= 30 min\")\n",
    "\n",
    "ax.set_yticks(range(len(low_user_split)))\n",
    "ax.set_yticklabels(low_user_split[\"event_category\"])\n",
    "\n",
    "total= low_user_split[\"total_time\"].sum()\n",
    "\n",
    "# add % Total values to right of bars\n",
    "for i in ax.patches:\n",
    "    if i.get_x() > 0: # skip bottom stack of bars\n",
    "        ax.text((i.get_x()+i.get_width())+20, i.get_y()+.1, \n",
    "            str(round(((i.get_x()+i.get_width())/total)*100, 2))+\"%\")\n",
    "\n",
    "ax.set_xlabel(\"Total time\")\n",
    "# ax.set_ylabel(\"Event Category\")\n",
    "ax.set_title(\"Website Activity Distribution for 1-2 Visit Users\")\n",
    "\n",
    "\n",
    "ax.legend()\n",
    "plt.show()"
   ]
  },
  {
   "cell_type": "markdown",
   "metadata": {},
   "source": [
    "This tells about the same story except we can replace the top three with launcher, header, and composer instead of campaigns_launched.\n",
    "\n",
    "So new users that visit only 1-2 times are spending half of their time toying with launching campaigns and the rest is scattered throughout the site."
   ]
  }
 ],
 "metadata": {
  "hide_input": true,
  "kernelspec": {
   "display_name": "Python 3",
   "language": "python",
   "name": "python3"
  },
  "language_info": {
   "codemirror_mode": {
    "name": "ipython",
    "version": 3
   },
   "file_extension": ".py",
   "mimetype": "text/x-python",
   "name": "python",
   "nbconvert_exporter": "python",
   "pygments_lexer": "ipython3",
   "version": "3.6.4"
  },
  "notify_time": "5",
  "toc": {
   "nav_menu": {},
   "number_sections": false,
   "sideBar": true,
   "skip_h1_title": false,
   "title_cell": "Table of Contents",
   "title_sidebar": "Contents",
   "toc_cell": false,
   "toc_position": {
    "height": "calc(100% - 180px)",
    "left": "10px",
    "top": "150px",
    "width": "499px"
   },
   "toc_section_display": true,
   "toc_window_display": true
  },
  "varInspector": {
   "cols": {
    "lenName": 16,
    "lenType": 16,
    "lenVar": 40
   },
   "kernels_config": {
    "python": {
     "delete_cmd_postfix": "",
     "delete_cmd_prefix": "del ",
     "library": "var_list.py",
     "varRefreshCmd": "print(var_dic_list())"
    },
    "r": {
     "delete_cmd_postfix": ") ",
     "delete_cmd_prefix": "rm(",
     "library": "var_list.r",
     "varRefreshCmd": "cat(var_dic_list()) "
    }
   },
   "oldHeight": 332,
   "position": {
    "height": "40px",
    "left": "1551px",
    "right": "20px",
    "top": "120px",
    "width": "350px"
   },
   "types_to_exclude": [
    "module",
    "function",
    "builtin_function_or_method",
    "instance",
    "_Feature"
   ],
   "varInspector_section_display": "none",
   "window_display": true
  }
 },
 "nbformat": 4,
 "nbformat_minor": 2
}
